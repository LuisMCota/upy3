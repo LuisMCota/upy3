{
 "cells": [
  {
   "cell_type": "markdown",
   "metadata": {},
   "source": [
    "<h1><center>Algorithms and data structures.</center></h1>\n",
    "<h1><center>Exercises Unit 1</center></h1>\n",
    "INSTRUCTIONS: Carry  out  the  following  exercises  and  document  the  steps  applied  to obtain the results. Consider the following points:\n",
    "\n",
    "• Code with comments.•Explanation of the implemented function.\n",
    "\n",
    "• Description of the operation of the algorithm.\n",
    "\n",
    "• Description of the data structure to which it belongs.\n",
    "\n",
    "• Algorithm results.•Submit in APA or IEEE format in English, pdf ."
   ]
  },
  {
   "cell_type": "markdown",
   "metadata": {},
   "source": [
    "### Exercise 1\n",
    "Given 2 lists, find the elements that are in one list and not in another list\n",
    "\n",
    "Example:\n",
    "\n",
    "find ([1,2,3,5,6], [6,3,2,3]) -→[1,5]\n",
    "\n",
    "find ([1,2,3, 'hello' ]), [3,2] →[1, 'hello ' ]"
   ]
  },
  {
   "cell_type": "code",
   "execution_count": 13,
   "metadata": {},
   "outputs": [
    {
     "name": "stdout",
     "output_type": "stream",
     "text": [
      "[1, 5]\n"
     ]
    }
   ],
   "source": [
    "list_1 = [1,2,3,5,6]#Defino mi lista 1\n",
    "list_2 = [6,3,2,3]#Defino lista 2\n",
    "list_ans = []# dejo una lista vacia\n",
    "\n",
    "for i in list_1:# Recorre todo lo que esta en la lista 1\n",
    "    if i not in list_2:# Checa que todo lo que esta en la lista 1 pero no en la lista 2\n",
    "        list_ans.append(i)# lo guarda en la lista vacia\n",
    "\n",
    "print(list_ans)#imprime los resultados"
   ]
  },
  {
   "cell_type": "markdown",
   "metadata": {},
   "source": [
    "### Exercise 2\n",
    "Given 2 list of numbers, verify that they are equal, that they contain the same valuesReturn True if they are the same, and False if they are different.Example:\n",
    "\n",
    "equals ([1,2,4,5,6]), ([6,5,4,2,1]) →True\n",
    "\n",
    "equals ([1,1,2,4,5,6]), ([6,5,4,1,2,3]) →False"
   ]
  },
  {
   "cell_type": "code",
   "execution_count": 13,
   "metadata": {},
   "outputs": [
    {
     "name": "stdout",
     "output_type": "stream",
     "text": [
      "True\n",
      "False\n"
     ]
    }
   ],
   "source": [
    "hey = [1,2,3,4,5,6]# Mi lista 1\n",
    "hey_1 = [6,5,4,3,2,1]# Defino la lista 2\n",
    "hey_2 = [1,5,4,7,6,7]# Defino la lista 3\n",
    "\n",
    "def equal(list1,list2):\n",
    "    for i in set(list1 + list2):\n",
    "        if list1.count(i) != list2.count(i):\n",
    "            return False\n",
    "    return True\n",
    "\n",
    "prueba = equal(hey, hey_1)\n",
    "prueba_2 = equal(hey_1, hey_2)\n",
    "\n",
    "print(prueba)\n",
    "print(prueba_2)"
   ]
  },
  {
   "cell_type": "markdown",
   "metadata": {},
   "source": [
    "### Exercise 3\n",
    "Print a binary tree by levels. On each line, show a list with the elements of that tree level."
   ]
  },
  {
   "cell_type": "code",
   "execution_count": 2,
   "metadata": {},
   "outputs": [
    {
     "name": "stdout",
     "output_type": "stream",
     "text": [
      "Level order traversal of binary tree is -\n",
      "1 \n",
      "2 3 \n",
      "4 5 \n"
     ]
    }
   ],
   "source": [
    "class Node: # Definimos una clase\n",
    "\n",
    "# A utility function to create a new node\n",
    "    def __init__(self, key):\n",
    "        self.data = key\n",
    "        self.left = None\n",
    "        self.right = None\n",
    "\n",
    "# Function to print level order traversal of tree\n",
    "def printlevelorder(root):\n",
    "\th = height(root)\n",
    "\tfor i in range(1, h + 1):\n",
    "\t\tprintGivenLevel(root, i)\n",
    "\t\tprint()\n",
    "\n",
    "def printGivenLevel(root, level):\n",
    "\tif root is None:\n",
    "\t\treturn root\n",
    "\n",
    "\tif level == 1:\n",
    "\t\tprint(root.data, end=' ')\n",
    "\telif level > 1:\n",
    "\t\tprintGivenLevel(root.left, level - 1)\n",
    "\t\tprintGivenLevel(root.right, level - 1)\n",
    "\n",
    "\n",
    "\"\"\" Compute the height of a tree--the number of nodes along the longest path from the root node down to the farthest leaf node\"\"\"\n",
    "\n",
    "def height(node):\n",
    "\tif node is None:\n",
    "\t\treturn 0\n",
    "\telse:\n",
    "\t\t# Compute the height of each subtree\n",
    "\t\tlheight = height(node.left)\n",
    "\t\trheight = height(node.right)\n",
    "\n",
    "\t\t# Use the larger one\n",
    "\t\tif lheight > rheight:\n",
    "\t\t\treturn lheight+1\n",
    "\t\telse:\n",
    "\t\t\treturn rheight+1\n",
    "\n",
    "# Driver program to test above function\n",
    "root = Node('1')\n",
    "root.left = Node('2')\n",
    "root.right = Node('3')\n",
    "root.left.left = Node('4')\n",
    "root.left.right = Node('5')\n",
    "\n",
    "print(\"Level order traversal of binary tree is -\")\n",
    "printlevelorder(root)"
   ]
  },
  {
   "cell_type": "markdown",
   "metadata": {},
   "source": [
    "### Exercise 4\n",
    "Sum of pairs of numbers.\n",
    "\n",
    "Parameters: List of numbers, value.\n",
    "\n",
    "Given a list of numbers, display the pairs of numbers that add up to the value passed as parameter.\n",
    "\n",
    "The function, in addition to showing the pairs of numbers, will return the number of pairs of numbers that add up to that value.\n",
    "\n",
    "For example, add pairs ([1,3,2,2],4) →(1,3) (2,2)"
   ]
  },
  {
   "cell_type": "code",
   "execution_count": 15,
   "metadata": {},
   "outputs": [
    {
     "name": "stdout",
     "output_type": "stream",
     "text": [
      "[(1, 3), (2, 2)]\n"
     ]
    }
   ],
   "source": [
    "lista = [1,3,2,2]\n",
    "\n",
    "def pair(list, sum): \n",
    "    resultado = []\n",
    "    while list:\n",
    "        num = list.pop()\n",
    "        difference = sum - num\n",
    "        if difference in list:\n",
    "            resultado.append((difference, num))\n",
    "          \n",
    "    resultado.reverse()\n",
    "    return resultado\n",
    "\n",
    "answer_pair = pair(lista, 4)\n",
    "print(answer_pair)"
   ]
  },
  {
   "cell_type": "markdown",
   "metadata": {},
   "source": [
    "### Exercise 5\n",
    "Given the general tree of exercise #3, classify and affirm its structure taking into account the Root, Son, Father, Siblings, Terminal Nodes or Leaves, Interior Nodes.\n",
    "\n",
    "![Tree](picture.png)\n"
   ]
  }
 ],
 "metadata": {
  "kernelspec": {
   "display_name": "Python 3 (ipykernel)",
   "language": "python",
   "name": "python3"
  },
  "language_info": {
   "codemirror_mode": {
    "name": "ipython",
    "version": 3
   },
   "file_extension": ".py",
   "mimetype": "text/x-python",
   "name": "python",
   "nbconvert_exporter": "python",
   "pygments_lexer": "ipython3",
   "version": "3.10.7"
  },
  "vscode": {
   "interpreter": {
    "hash": "d3e0a3ee8ff3ec6388f6789e6b77e9105031583aa0282427c7880a736afc6c4e"
   }
  }
 },
 "nbformat": 4,
 "nbformat_minor": 2
}
