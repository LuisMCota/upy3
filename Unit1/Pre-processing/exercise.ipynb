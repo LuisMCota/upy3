{
  "cells": [
    {
      "cell_type": "markdown",
      "metadata": {
        "id": "XgrGry0NqCyE"
      },
      "source": [
        "## Computing the two measures"
      ]
    },
    {
      "cell_type": "markdown",
      "metadata": {
        "id": "PO0uYniFqCyE"
      },
      "source": [
        "Implement a python function `sim_card` that returns the similarity of two sets using the cardinality measure:"
      ]
    },
    {
      "cell_type": "code",
      "execution_count": null,
      "metadata": {
        "collapsed": true,
        "id": "eBVT1hHbqCyE"
      },
      "outputs": [],
      "source": [
        "def sim_card():\n",
        "    cardinalidad = \n",
        "    return cardinalidad\n",
        "    pass"
      ]
    },
    {
      "cell_type": "markdown",
      "metadata": {
        "id": "c4_u-4yfqCyE"
      },
      "source": [
        "Implement a python function `sim_jaccard` that returns the similarity of two sets using the Jaccard coefficient:"
      ]
    },
    {
      "cell_type": "code",
      "execution_count": null,
      "metadata": {
        "collapsed": true,
        "id": "uL0BMkhyqCyF"
      },
      "outputs": [],
      "source": [
        "def sim_jaccard():\n",
        "    int_cardinalidad = sim_card()\n",
        "    union_cardinalidad = \n",
        "    return int_cardinalidad / union_cardinalidad\n",
        "    pass"
      ]
    },
    {
      "cell_type": "markdown",
      "metadata": {
        "id": "n2_f-3EhqCyF"
      },
      "source": [
        "You can use this space to test your functions.  Just be sure to hit the \"run\" button on the blocks above after you make changes, so that calling them below will invoke the correct code."
      ]
    },
    {
      "cell_type": "code",
      "execution_count": null,
      "metadata": {
        "id": "sZ0mRsh6qCyF",
        "outputId": "428e73ea-7ab0-4c04-ddac-2dffada30946"
      },
      "outputs": [
        {
          "name": "stdout",
          "output_type": "stream",
          "text": [
            "The cardinality of jeffrey and jeff is 6  and the jaccard coefficient is 0.6\n",
            "The cardinality of kevin and kev is 3  and the jaccard coefficient is 1.0\n",
            "The cardinality of kevin and kev is 0  and the jaccard coefficient is 0.0\n"
          ]
        }
      ],
      "source": [
        "jeff = [1, 2, 3, 4, 5, 6]\n",
        "jeffrey = [1, 2, 3, 4, 5, 6, 7, 8, 9, 10]\n",
        "\n",
        "jeff = set(jeff)\n",
        "jeffrey = set(jeffrey)\n",
        "\n",
        "kevin = [11, 12, 13]\n",
        "kev = [11, 12, 13]\n",
        "\n",
        "kevin = set(kevin)\n",
        "kev = set(kev)\n",
        "\n",
        "a = sim_card(jeffrey, jeff) \n",
        "b = sim_jaccard(jeffrey, jeff)\n",
        "\n",
        "c = sim_card(kevin, kev)  \n",
        "d = sim_jaccard(kevin, kev)\n",
        "\n",
        "e = sim_card(kev, jeff)  \n",
        "f = sim_jaccard(kev, jeff) \n",
        "\n",
        "print(\"The cardinality of jeffrey and jeff is\", a, \" and the jaccard coefficient is\", b)\n",
        "print(\"The cardinality of kevin and kev is\", c, \" and the jaccard coefficient is\", d)\n",
        "print(\"The cardinality of kevin and kev is\", e, \" and the jaccard coefficient is\", f)"
      ]
    }
  ],
  "metadata": {
    "colab": {
      "provenance": []
    },
    "kernelspec": {
      "display_name": "Python 3.10.2 64-bit",
      "language": "python",
      "name": "python3"
    },
    "language_info": {
      "codemirror_mode": {
        "name": "ipython",
        "version": 3
      },
      "file_extension": ".py",
      "mimetype": "text/x-python",
      "name": "python",
      "nbconvert_exporter": "python",
      "pygments_lexer": "ipython3",
      "version": "3.10.2"
    },
    "vscode": {
      "interpreter": {
        "hash": "1d560eb1adf81cf6d0d2c29d887570bf5a31c4d06a1010589a8ded32ced535b4"
      }
    }
  },
  "nbformat": 4,
  "nbformat_minor": 0
}
