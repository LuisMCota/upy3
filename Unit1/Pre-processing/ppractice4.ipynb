{
 "cells": [
  {
   "cell_type": "markdown",
   "metadata": {},
   "source": [
    "## Computing the two measures\n",
    "Implement a python function `sim_card` that returns the similarity of two sets using the cardinality measure:"
   ]
  },
  {
   "cell_type": "code",
   "execution_count": 22,
   "metadata": {},
   "outputs": [],
   "source": [
    "def sim_card(s1,s2): \n",
    "    hola = len(s1 & s2)\n",
    "    return hola\n",
    "    pass"
   ]
  },
  {
   "cell_type": "markdown",
   "metadata": {},
   "source": [
    "Implement a python function `sim_jaccard` that returns the similarity of two sets using the Jaccard coefficient:"
   ]
  },
  {
   "cell_type": "code",
   "execution_count": 23,
   "metadata": {},
   "outputs": [],
   "source": [
    "def sim_jaccard(s1,s2):\n",
    "    top = sim_card(s1,s2)\n",
    "    denom = len(set.union(s1,s2))\n",
    "    return top/denom\n",
    "    pass"
   ]
  },
  {
   "cell_type": "markdown",
   "metadata": {},
   "source": [
    "You can use this space to test your functions.  Just be sure to hit the \"run\" button on the blocks above after you make changes, so that calling them below will invoke the correct code."
   ]
  },
  {
   "cell_type": "code",
   "execution_count": 24,
   "metadata": {},
   "outputs": [
    {
     "name": "stdout",
     "output_type": "stream",
     "text": [
      "The cardinality of jeffrey and jeff is 6  and the jaccard coefficisent is 0.6\n",
      "The cardinality of kevin and kev is 3  and the jaccard coefficient is 1.0\n",
      "The cardinality of kevin and kev is 0  and the jaccard coefficient is 0.0\n"
     ]
    }
   ],
   "source": [
    "jeff = [1, 2, 3, 4, 5, 6]\n",
    "jeffrey = [1, 2, 3, 4, 5, 6, 7, 8, 9, 10]\n",
    "\n",
    "jeff = set(jeff)\n",
    "jeffrey = set(jeffrey)\n",
    "\n",
    "kevin = [11, 12, 13]\n",
    "kev = [11, 12, 13]\n",
    "\n",
    "kevin = set(kevin)\n",
    "kev = set(kev)\n",
    "\n",
    "a = sim_card(jeffrey, jeff) \n",
    "b = sim_jaccard(jeffrey, jeff)\n",
    "\n",
    "c = sim_card(kevin, kev)  \n",
    "d = sim_jaccard(kevin, kev)\n",
    "\n",
    "e = sim_card(kev, jeff)  \n",
    "f = sim_jaccard(kev, jeff) \n",
    "\n",
    "print(\"The cardinality of jeffrey and jeff is\", a, \" and the jaccard coefficisent is\", b)\n",
    "\n",
    "print(\"The cardinality of kevin and kev is\", c, \" and the jaccard coefficient is\", d)\n",
    "\n",
    "print(\"The cardinality of kevin and kev is\", e, \" and the jaccard coefficient is\", f)"
   ]
  }
 ],
 "metadata": {
  "kernelspec": {
   "display_name": "Python 3.10.7 64-bit",
   "language": "python",
   "name": "python3"
  },
  "language_info": {
   "codemirror_mode": {
    "name": "ipython",
    "version": 3
   },
   "file_extension": ".py",
   "mimetype": "text/x-python",
   "name": "python",
   "nbconvert_exporter": "python",
   "pygments_lexer": "ipython3",
   "version": "3.10.7"
  },
  "orig_nbformat": 4,
  "vscode": {
   "interpreter": {
    "hash": "d3e0a3ee8ff3ec6388f6789e6b77e9105031583aa0282427c7880a736afc6c4e"
   }
  }
 },
 "nbformat": 4,
 "nbformat_minor": 2
}
